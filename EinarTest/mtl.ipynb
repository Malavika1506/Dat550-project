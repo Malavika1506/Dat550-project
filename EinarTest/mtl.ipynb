{
 "cells": [
  {
   "cell_type": "code",
   "execution_count": 174,
   "metadata": {},
   "outputs": [],
   "source": [
    "import mtl_functions as mtl\n",
    "\n",
    "import os\n",
    "import pandas as pd\n",
    "import csv\n",
    "import numpy as np"
   ]
  },
  {
   "cell_type": "markdown",
   "metadata": {},
   "source": [
    "## constants"
   ]
  },
  {
   "cell_type": "code",
   "execution_count": 189,
   "metadata": {},
   "outputs": [],
   "source": [
    "'''\n",
    "\n",
    "FN = 'D550_project'\n",
    "\n",
    "TASKS = [STANCE, FNC, NLI, TOPIC, TOPIC_5WAY, LAPTOP, RESTAURANT, TARGET,FN]\n",
    "\n",
    "TASK_NAMES_SHORT = {\"semeval2016-task6-stance\": \"STANCE\", \"fakenewschallenge\": \"FNC\", \"topic-based\": \"TOPIC\", \"multinli\": \"NLI\",\n",
    "                    \"topic-based-5way\": \"TOPIC_5WAY\", \"absa-laptops\": \"LAPTOP\", \"absa-restaurants\":\"RESTAURANT\", \"target-dependent\": \"TARGET\",\"D550_project\":\"FN\"}\n",
    "\n",
    "\n",
    "FN_LABELS = ['0','1','10','2','2 pinnochios','3','3 pinnochios','4','4 pinnochios','None','a little baloney','a lot of baloney','accurate','authorship confirmed!','bogus warning','cherry picks','commentary!','compromise','conclusion: accurate','conclusion: false','conclusion: unclear','confirmed authorship!','correct','correct attribution','correct attribution!','determination: a stretch','determination: barely true','determination: false','determination: huckster propaganda','determination: misleading','determination: mostly true','determination: true','disputed!','distorts the facts','exaggerated','exaggerates','facebook scams','fact','factscan score: false','factscan score: misleading','factscan score: true','fake','fake news','false','fiction','fiction!','fiction! & satire!','full flop','grass roots movement!','half flip','half true','half-true','in the works','in-between','in-the-green','in-the-red','inaccurate attribution!','incorrect','incorrect attribution!','investigation pending!','legend','misattributed','miscaptioned','misleading','misleading recommendations','misleading!','mixture','mostly false','mostly fiction!','mostly true','mostly truth!','mostly-correct','mostly_false','mostly_true','needs context','no evidence','no flip','none','not the whole story','not yet rated','opinion!','outdated','outdated!','pants on fire!','partially true','partly true','previously truth! now resolved!','promise broken','promise kept','rating: false','scam','scam!','some baloney','spins the facts','stalled','statirical reports','true','true messages','truth!','truth! & disputed!','truth! & fiction!','truth! & misleading!','truth! & outdated!','truth! & unproven!','understated','unobservable','unproven','unproven!','unsubstantiated messages','unsupported','unverified','verdict: false','verdict: true','verdict: unsubstantiated','verified','virus!','we rate this claim false']\n",
    "\n",
    "'''\n",
    "FN_LABELS = sorted(df_data['label'].unique().tolist())\n"
   ]
  },
  {
   "cell_type": "markdown",
   "metadata": {},
   "source": [
    "## data_reader"
   ]
  },
  {
   "cell_type": "code",
   "execution_count": 191,
   "metadata": {},
   "outputs": [],
   "source": [
    "FN_LABELS = ['0','1','10','2','2 pinnochios','3','3 pinnochios','4','4 pinnochios','None','a little baloney','a lot of baloney','accurate','authorship confirmed!','bogus warning','cherry picks','commentary!','compromise','conclusion: accurate','conclusion: false','conclusion: unclear','confirmed authorship!','correct','correct attribution','correct attribution!','determination: a stretch','determination: barely true','determination: false','determination: huckster propaganda','determination: misleading','determination: mostly true','determination: true','disputed!','distorts the facts','exaggerated','exaggerates','facebook scams','fact','factscan score: false','factscan score: misleading','factscan score: true','fake','fake news','false','fiction','fiction!','fiction! & satire!','full flop','grass roots movement!','half flip','half true','half-true','in the works','in-between','in-the-green','in-the-red','inaccurate attribution!','incorrect','incorrect attribution!','investigation pending!','legend','misattributed','miscaptioned','misleading','misleading recommendations','misleading!','mixture','mostly false','mostly fiction!','mostly true','mostly truth!','mostly-correct','mostly_false','mostly_true','needs context','no evidence','no flip','none','not the whole story','not yet rated','opinion!','outdated','outdated!','pants on fire!','partially true','partly true','previously truth! now resolved!','promise broken','promise kept','rating: false','scam','scam!','some baloney','spins the facts','stalled','statirical reports','true','true messages','truth!','truth! & disputed!','truth! & fiction!','truth! & misleading!','truth! & outdated!','truth! & unproven!','understated','unobservable','unproven','unproven!','unsubstantiated messages','unsupported','unverified','verdict: false','verdict: true','verdict: unsubstantiated','verified','virus!','we rate this claim false']\n",
    "\n",
    "\n",
    "\n",
    "\n",
    "def task2data_reader(task):\n",
    "    if task == STANCE: # all data available\n",
    "        return readSemEval2016Task6\n",
    "    if task == FNC: # all data available\n",
    "        return readFakeNewsChallengeData\n",
    "    if task == NLI:  # test data not available - so we use every other dev example as test example\n",
    "        return readMultinliData\n",
    "    if task == TOPIC:  # all data available\n",
    "        return readTopicBased\n",
    "    if task == TOPIC_5WAY:\n",
    "        return readTopic5Way\n",
    "    if task == LAPTOP: # all data available\n",
    "        return read_absa_laptops\n",
    "    if task == RESTAURANT: # all data available\n",
    "        return read_absa_restaurants\n",
    "    if task == TARGET:  # all data available\n",
    "        return read_target_dependent\n",
    "    \n",
    "    if task == FN:  # all data available\n",
    "        return readFakeNews\n",
    "    \n",
    "    raise ValueError('No data reader available for %s.' % task)\n",
    "\n",
    "\n",
    "\n",
    "def parseFakeNews(datafolder, datafile, snip_folder, data_dict, debug, num_instances):\n",
    "\n",
    "    \n",
    "    with open(os.path.join(datafolder, datafile),encoding='utf-8' ) as tsv:\n",
    "        reader = csv.reader(tsv, delimiter=\"\\t\" )\n",
    "        for i,row in enumerate(reader):\n",
    "            \n",
    "            try:\n",
    "                df_row = pd.read_csv(os.path.join(snip_folder, row[0]),sep='\\t',header=None,engine='python',encoding='utf8' ,quoting=3)\n",
    "                data_dict[\"seq1\"].append(row[1])\n",
    "                data_dict[\"seq2\"].append(df_row[1].str.cat(sep=' ') + df_row[2].str.cat(sep=' '))\n",
    "                data_dict[\"stance\"].append(row[2])\n",
    "            except:\n",
    "               \n",
    "                pass\n",
    "            \n",
    "            if i>num_instances:\n",
    "                break\n",
    "            \n",
    "    for lab in set(data_dict[\"stance\"]):\n",
    "        data_dict[\"labels\"].append(lab)\n",
    "    \n",
    "    return data_dict\n",
    "\n",
    "\n",
    "\n",
    "def readFakeNews(datafolder=\"../data/\", debug=True, num_instances=20):\n",
    "    \n",
    "    data_train = {\"seq1\": [], \"seq2\": [], \"stance\": [], \"labels\": []}\n",
    "    data_train = parseFakeNews(datafolder, \"train.tsv\", \"../data/snippets\",data_train  , debug, num_instances)\n",
    "    \n",
    "    data_dev = {\"seq1\": [], \"seq2\": [], \"stance\": [], \"labels\": []}\n",
    "    data_dev = parseFakeNews(datafolder, \"dev.tsv\", \"../data/snippets\",data_dev , debug, num_instances)\n",
    "    \n",
    "    data_test = {\"seq1\": [], \"seq2\": [], \"stance\": [], \"labels\": []}\n",
    "    data_test = parseFakeNews(datafolder, \"test.tsv\", \"../data/snippets\", data_test,  debug, num_instances)\n",
    "         \n",
    "    data_train[\"labels\"] = sorted(list(set(data_train[\"labels\"])))\n",
    "    assert data_train[\"labels\"] ==  FN_LABELS\n",
    "    data_dev[\"labels\"] = data_train[\"labels\"]\n",
    "    data_test[\"labels\"] = data_train[\"labels\"]\n",
    "    return data_train, data_dev, data_test\n",
    "\n"
   ]
  },
  {
   "cell_type": "code",
   "execution_count": 182,
   "metadata": {},
   "outputs": [
    {
     "name": "stdout",
     "output_type": "stream",
     "text": [
      "Claim: 24004\n",
      "Snip: 24004\n",
      "y: 24004\n",
      "nr of labels 117\n"
     ]
    }
   ],
   "source": [
    "train,dev,test = readFakeNews(datafolder=\"../data/\",debug= True, num_instances=np.inf)\n",
    "\n",
    "print('Claim:',len(train['seq1']))\n",
    "print('Snip:',len(train['seq2']))\n",
    "print('y:',len(train['stance']))\n",
    "print('nr of labels',len(train['labels']))"
   ]
  },
  {
   "cell_type": "code",
   "execution_count": null,
   "metadata": {},
   "outputs": [],
   "source": []
  }
 ],
 "metadata": {
  "kernelspec": {
   "display_name": "Python 3",
   "language": "python",
   "name": "python3"
  },
  "language_info": {
   "codemirror_mode": {
    "name": "ipython",
    "version": 3
   },
   "file_extension": ".py",
   "mimetype": "text/x-python",
   "name": "python",
   "nbconvert_exporter": "python",
   "pygments_lexer": "ipython3",
   "version": "3.7.7"
  }
 },
 "nbformat": 4,
 "nbformat_minor": 4
}
