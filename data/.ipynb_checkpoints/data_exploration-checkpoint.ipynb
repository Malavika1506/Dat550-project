{
 "cells": [
  {
   "cell_type": "code",
   "execution_count": 2,
   "metadata": {},
   "outputs": [],
   "source": [
    "import pandas as pd\n",
    "import numpy as np"
   ]
  },
  {
   "cell_type": "code",
   "execution_count": 5,
   "metadata": {},
   "outputs": [],
   "source": [
    "#Loading the data\n",
    "data_train=pd.read_csv('../data/public_data/train.tsv', sep='\\t')"
   ]
  },
  {
   "cell_type": "code",
   "execution_count": 9,
   "metadata": {},
   "outputs": [],
   "source": [
    "data_train.columns=['claimID', 'claim', 'label', 'claimURL', 'reason', 'categories', 'speaker', 'checker', 'tags', 'articleTitle', 'publishDate', 'claimDate', 'entities']"
   ]
  },
  {
   "cell_type": "code",
   "execution_count": 11,
   "metadata": {},
   "outputs": [
    {
     "data": {
      "text/html": [
       "<div>\n",
       "<style scoped>\n",
       "    .dataframe tbody tr th:only-of-type {\n",
       "        vertical-align: middle;\n",
       "    }\n",
       "\n",
       "    .dataframe tbody tr th {\n",
       "        vertical-align: top;\n",
       "    }\n",
       "\n",
       "    .dataframe thead th {\n",
       "        text-align: right;\n",
       "    }\n",
       "</style>\n",
       "<table border=\"1\" class=\"dataframe\">\n",
       "  <thead>\n",
       "    <tr style=\"text-align: right;\">\n",
       "      <th></th>\n",
       "      <th>claimID</th>\n",
       "      <th>claim</th>\n",
       "      <th>label</th>\n",
       "      <th>claimURL</th>\n",
       "      <th>reason</th>\n",
       "      <th>categories</th>\n",
       "      <th>speaker</th>\n",
       "      <th>checker</th>\n",
       "      <th>tags</th>\n",
       "      <th>articleTitle</th>\n",
       "      <th>publishDate</th>\n",
       "      <th>claimDate</th>\n",
       "      <th>entities</th>\n",
       "    </tr>\n",
       "  </thead>\n",
       "  <tbody>\n",
       "    <tr>\n",
       "      <th>0</th>\n",
       "      <td>pomt-09611</td>\n",
       "      <td>No Democratic campaign for (Fla.) governor has...</td>\n",
       "      <td>true</td>\n",
       "      <td>/florida/statements/2010/jan/15/alex-sink/flor...</td>\n",
       "      <td>Florida's leading Republican candidate for gov...</td>\n",
       "      <td>None</td>\n",
       "      <td>Alex Sink</td>\n",
       "      <td>None</td>\n",
       "      <td>None</td>\n",
       "      <td>None</td>\n",
       "      <td>2010-01-15T13:59:00</td>\n",
       "      <td>2010-01-06</td>\n",
       "      <td>['None']</td>\n",
       "    </tr>\n",
       "    <tr>\n",
       "      <th>1</th>\n",
       "      <td>tron-00214</td>\n",
       "      <td>Forward an email for Jasmine</td>\n",
       "      <td>fiction!</td>\n",
       "      <td>https://www.truthorfiction.com/jasmine/</td>\n",
       "      <td>None</td>\n",
       "      <td>9-11-attack</td>\n",
       "      <td>None</td>\n",
       "      <td>None</td>\n",
       "      <td>None</td>\n",
       "      <td>Forward an email for Jasmine</td>\n",
       "      <td>Mar 17, 2015</td>\n",
       "      <td>None</td>\n",
       "      <td>['None']</td>\n",
       "    </tr>\n",
       "    <tr>\n",
       "      <th>2</th>\n",
       "      <td>snes-04484</td>\n",
       "      <td>Pope Francis endorsed Donald Trump for president.</td>\n",
       "      <td>false</td>\n",
       "      <td>https://www.snopes.com/fact-check/pope-francis...</td>\n",
       "      <td>None</td>\n",
       "      <td>Junk News</td>\n",
       "      <td>None</td>\n",
       "      <td>Dan Evon</td>\n",
       "      <td>None</td>\n",
       "      <td>Pope Francis Shocks World, Endorses Donald Tru...</td>\n",
       "      <td>10 July 2016</td>\n",
       "      <td>None</td>\n",
       "      <td>['None']</td>\n",
       "    </tr>\n",
       "    <tr>\n",
       "      <th>3</th>\n",
       "      <td>pomt-06704</td>\n",
       "      <td>Says Ron Paul insisted FEMA should be shut down.</td>\n",
       "      <td>true</td>\n",
       "      <td>/texas/statements/2011/sep/03/maureen-dowd/mau...</td>\n",
       "      <td>Commenting on the federal response to Hurrican...</td>\n",
       "      <td>None</td>\n",
       "      <td>Maureen Dowd</td>\n",
       "      <td>None</td>\n",
       "      <td>None</td>\n",
       "      <td>None</td>\n",
       "      <td>2011-09-03T06:00:00</td>\n",
       "      <td>2011-08-30</td>\n",
       "      <td>['None']</td>\n",
       "    </tr>\n",
       "    <tr>\n",
       "      <th>4</th>\n",
       "      <td>pomt-15232</td>\n",
       "      <td>Says Hillary Clinton has \"been in office and i...</td>\n",
       "      <td>mostly false</td>\n",
       "      <td>/truth-o-meter/statements/2015/aug/07/marco-ru...</td>\n",
       "      <td>Sen. Marco Rubio, R-Fla., says the electorate ...</td>\n",
       "      <td>None</td>\n",
       "      <td>Marco Rubio</td>\n",
       "      <td>None</td>\n",
       "      <td>None</td>\n",
       "      <td>None</td>\n",
       "      <td>2015-08-07T00:55:38</td>\n",
       "      <td>2015-08-06</td>\n",
       "      <td>['None']</td>\n",
       "    </tr>\n",
       "  </tbody>\n",
       "</table>\n",
       "</div>"
      ],
      "text/plain": [
       "      claimID                                              claim  \\\n",
       "0  pomt-09611  No Democratic campaign for (Fla.) governor has...   \n",
       "1  tron-00214                       Forward an email for Jasmine   \n",
       "2  snes-04484  Pope Francis endorsed Donald Trump for president.   \n",
       "3  pomt-06704   Says Ron Paul insisted FEMA should be shut down.   \n",
       "4  pomt-15232  Says Hillary Clinton has \"been in office and i...   \n",
       "\n",
       "          label                                           claimURL  \\\n",
       "0          true  /florida/statements/2010/jan/15/alex-sink/flor...   \n",
       "1      fiction!            https://www.truthorfiction.com/jasmine/   \n",
       "2         false  https://www.snopes.com/fact-check/pope-francis...   \n",
       "3          true  /texas/statements/2011/sep/03/maureen-dowd/mau...   \n",
       "4  mostly false  /truth-o-meter/statements/2015/aug/07/marco-ru...   \n",
       "\n",
       "                                              reason   categories  \\\n",
       "0  Florida's leading Republican candidate for gov...         None   \n",
       "1                                               None  9-11-attack   \n",
       "2                                               None    Junk News   \n",
       "3  Commenting on the federal response to Hurrican...         None   \n",
       "4  Sen. Marco Rubio, R-Fla., says the electorate ...         None   \n",
       "\n",
       "        speaker   checker  tags  \\\n",
       "0     Alex Sink      None  None   \n",
       "1          None      None  None   \n",
       "2          None  Dan Evon  None   \n",
       "3  Maureen Dowd      None  None   \n",
       "4   Marco Rubio      None  None   \n",
       "\n",
       "                                        articleTitle          publishDate  \\\n",
       "0                                               None  2010-01-15T13:59:00   \n",
       "1                       Forward an email for Jasmine         Mar 17, 2015   \n",
       "2  Pope Francis Shocks World, Endorses Donald Tru...         10 July 2016   \n",
       "3                                               None  2011-09-03T06:00:00   \n",
       "4                                               None  2015-08-07T00:55:38   \n",
       "\n",
       "    claimDate  entities  \n",
       "0  2010-01-06  ['None']  \n",
       "1        None  ['None']  \n",
       "2        None  ['None']  \n",
       "3  2011-08-30  ['None']  \n",
       "4  2015-08-06  ['None']  "
      ]
     },
     "execution_count": 11,
     "metadata": {},
     "output_type": "execute_result"
    }
   ],
   "source": [
    "data_train.head()"
   ]
  },
  {
   "cell_type": "code",
   "execution_count": 13,
   "metadata": {},
   "outputs": [],
   "source": [
    "labels=data_train.label.unique()"
   ]
  },
  {
   "cell_type": "code",
   "execution_count": 25,
   "metadata": {},
   "outputs": [
    {
     "name": "stdout",
     "output_type": "stream",
     "text": [
      " - *fiction!:* 2 pinnochios, 3 pinnochios, 4 pinnochios, facebook scams, fiction, fiction!, fiction! & satire!, miscaptioned, mixture, mostly fiction!, opinion!, pants on fire!, truth!, virus!\n",
      " - *unproven:* compromise, no evidence, unobservable, unproven, unproven!, unsupported, unverified\n",
      " - *promise kept:* promise broken, promise kept, statirical reports\n",
      " - *mostly true:* misattributed, mostly false, mostly true, mostly truth!, mostly-correct, mostly_false, mostly_true, partially true, partly true\n",
      " - *0:* 0, 1, 10, 2, 3, 4, scam\n",
      " - *confirmed authorship!:* confirmed authorship!\n",
      " - *determination: true:* determination: a stretch, determination: barely true, determination: false, determination: misleading, determination: mostly true, determination: true\n",
      " - *a lot of baloney:* a little baloney, a lot of baloney, some baloney\n",
      " - *not the whole story:* not the whole story\n",
      " - *authorship confirmed!:* authorship confirmed!\n",
      " - *misleading:* bogus warning, misleading, misleading!\n",
      " - *verdict: false:* rating: false, verdict: false, verdict: true, verdict: unsubstantiated\n",
      " - *unsubstantiated messages:* unsubstantiated messages\n",
      " - *in-the-green:* in the works, in-between, in-the-green, in-the-red\n",
      " - *factscan score: false:* factscan score: false, factscan score: misleading, factscan score: true\n",
      " - *fake:* None, accurate, fact, fake, fake news, false, legend, none, scam!, stalled, true\n",
      " - *correct:* cherry picks, commentary!, correct, incorrect, needs context\n",
      " - *outdated:* disputed!, not yet rated, outdated, outdated!, understated, verified\n",
      " - *half flip:* full flop, half flip, half true, half-true, no flip\n",
      " - *determination: huckster propaganda:* determination: huckster propaganda\n",
      " - *previously truth! now resolved!:* previously truth! now resolved!\n",
      " - *investigation pending!:* investigation pending!\n",
      " - *incorrect attribution!:* correct attribution, correct attribution!, inaccurate attribution!, incorrect attribution!\n",
      " - *conclusion: unclear:* conclusion: accurate, conclusion: false, conclusion: unclear\n",
      " - *spins the facts:* distorts the facts, spins the facts\n",
      " - *misleading recommendations:* misleading recommendations\n",
      " - *grass roots movement!:* grass roots movement!\n",
      " - *truth! & disputed!:* truth! & disputed!, truth! & fiction!, truth! & misleading!, truth! & outdated!, truth! & unproven!\n",
      " - *we rate this claim false:* we rate this claim false\n",
      " - *exaggerates:* exaggerated, exaggerates, true messages\n"
     ]
    }
   ],
   "source": [
    "import numpy as np\n",
    "import sklearn.cluster\n",
    "import Levenshtein as lev\n",
    "\n",
    "#words = \"YOUR WORDS HERE\".split(\" \") #Replace this line\n",
    "#words = np.asarray(words) #So that indexing with a list will work\n",
    "words=labels\n",
    "lev_similarity = -1*np.array([[lev.distance(w1,w2) for w1 in words] for w2 in words])\n",
    "\n",
    "affprop = sklearn.cluster.AffinityPropagation(affinity=\"precomputed\", damping=0.5)\n",
    "affprop.fit(lev_similarity)\n",
    "for cluster_id in np.unique(affprop.labels_):\n",
    "    exemplar = words[affprop.cluster_centers_indices_[cluster_id]]\n",
    "    cluster = np.unique(words[np.nonzero(affprop.labels_==cluster_id)])\n",
    "    cluster_str = \", \".join(cluster)\n",
    "    print(\" - *%s:* %s\" % (exemplar, cluster_str))"
   ]
  },
  {
   "cell_type": "code",
   "execution_count": 23,
   "metadata": {},
   "outputs": [
    {
     "data": {
      "text/plain": [
       "4"
      ]
     },
     "execution_count": 23,
     "metadata": {},
     "output_type": "execute_result"
    }
   ],
   "source": [
    "import Levenshtein as lev\n",
    "lev.distance('Levenshtein', 'Lenvinsten')"
   ]
  },
  {
   "cell_type": "code",
   "execution_count": null,
   "metadata": {},
   "outputs": [],
   "source": []
  },
  {
   "cell_type": "code",
   "execution_count": null,
   "metadata": {},
   "outputs": [],
   "source": []
  }
 ],
 "metadata": {
  "kernelspec": {
   "display_name": "Python 3",
   "language": "python",
   "name": "python3"
  },
  "language_info": {
   "codemirror_mode": {
    "name": "ipython",
    "version": 3
   },
   "file_extension": ".py",
   "mimetype": "text/x-python",
   "name": "python",
   "nbconvert_exporter": "python",
   "pygments_lexer": "ipython3",
   "version": "3.7.6"
  }
 },
 "nbformat": 4,
 "nbformat_minor": 4
}
